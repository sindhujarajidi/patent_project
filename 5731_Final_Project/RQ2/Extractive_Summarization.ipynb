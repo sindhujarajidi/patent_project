{
  "nbformat": 4,
  "nbformat_minor": 0,
  "metadata": {
    "colab": {
      "provenance": [],
      "include_colab_link": true
    },
    "kernelspec": {
      "name": "python3",
      "display_name": "Python 3"
    },
    "language_info": {
      "name": "python"
    }
  },
  "cells": [
    {
      "cell_type": "markdown",
      "metadata": {
        "id": "view-in-github",
        "colab_type": "text"
      },
      "source": [
        "<a href=\"https://colab.research.google.com/github/LavanyaPobbathi/Lavanya_INFO5731_Fall2023/blob/main/5731_Final_Project/RQ2/Extractive_Summarization.ipynb\" target=\"_parent\"><img src=\"https://colab.research.google.com/assets/colab-badge.svg\" alt=\"Open In Colab\"/></a>"
      ]
    },
    {
      "cell_type": "markdown",
      "source": [
        "**Extractive Summarization for Patent Texts**"
      ],
      "metadata": {
        "id": "fgqj-pQb8Cy2"
      }
    },
    {
      "cell_type": "code",
      "source": [
        "!pip install nltk"
      ],
      "metadata": {
        "colab": {
          "base_uri": "https://localhost:8080/"
        },
        "id": "sl9l9ccG5c4o",
        "outputId": "074d9a33-5553-4dce-ece4-8097b9448007"
      },
      "execution_count": null,
      "outputs": [
        {
          "output_type": "stream",
          "name": "stdout",
          "text": [
            "Requirement already satisfied: nltk in /usr/local/lib/python3.10/dist-packages (3.8.1)\n",
            "Requirement already satisfied: click in /usr/local/lib/python3.10/dist-packages (from nltk) (8.1.7)\n",
            "Requirement already satisfied: joblib in /usr/local/lib/python3.10/dist-packages (from nltk) (1.3.2)\n",
            "Requirement already satisfied: regex>=2021.8.3 in /usr/local/lib/python3.10/dist-packages (from nltk) (2023.6.3)\n",
            "Requirement already satisfied: tqdm in /usr/local/lib/python3.10/dist-packages (from nltk) (4.66.1)\n"
          ]
        }
      ]
    },
    {
      "cell_type": "code",
      "source": [
        "nltk.download('punkt')"
      ],
      "metadata": {
        "colab": {
          "base_uri": "https://localhost:8080/"
        },
        "id": "QduoEfrz5c8J",
        "outputId": "80adbc8e-5be3-4785-b0f1-39d703767b17"
      },
      "execution_count": null,
      "outputs": [
        {
          "output_type": "stream",
          "name": "stderr",
          "text": [
            "[nltk_data] Downloading package punkt to /root/nltk_data...\n",
            "[nltk_data]   Unzipping tokenizers/punkt.zip.\n"
          ]
        },
        {
          "output_type": "execute_result",
          "data": {
            "text/plain": [
              "True"
            ]
          },
          "metadata": {},
          "execution_count": 8
        }
      ]
    },
    {
      "cell_type": "code",
      "source": [
        "import pandas as pd\n",
        "import nltk\n",
        "from sklearn.feature_extraction.text import TfidfVectorizer\n",
        "from nltk.tokenize import sent_tokenize\n",
        "import numpy as np\n",
        "\n",
        "# Load the dataset from an Excel file\n",
        "patent_data = pd.read_excel('cleaned_patent_data.xlsx')  # Replace 'patent_data.xlsx' with your file path\n",
        "\n",
        "# Combine abstract, claims, and description into one column for processing\n",
        "patent_data['combined_text'] = patent_data['Cleaned Abstract'] + ' ' + patent_data['Cleaned Claims'] + ' ' + patent_data['Cleaned Description']\n",
        "\n",
        "# Sentence tokenization\n",
        "patent_data['sentences'] = patent_data['combined_text'].apply(sent_tokenize)\n",
        "\n",
        "# Initialize TF-IDF Vectorizer\n",
        "tfidf_vect = TfidfVectorizer()\n",
        "\n",
        "# Feature extraction and sentence scoring\n",
        "def score_sentences(sentences):\n",
        "    tfidf_matrix = tfidf_vect.fit_transform(sentences)\n",
        "    sentence_scores = np.sum(tfidf_matrix.toarray(), axis=1)\n",
        "    return sentence_scores\n",
        "\n",
        "# Extract and score sentences\n",
        "patent_data['sentence_scores'] = patent_data['sentences'].apply(score_sentences)\n",
        "\n",
        "# Sentence selection based on scores\n",
        "def select_top_sentences(sentences, scores, num_sentences=5):\n",
        "    top_sentences_idx = np.argsort(scores)[-num_sentences:]\n",
        "    top_sentences = [sentences[i] for i in top_sentences_idx]\n",
        "    return ' '.join(top_sentences)\n",
        "\n",
        "# Applying the selection function\n",
        "patent_data['extractive_summary'] = patent_data.apply(lambda row: select_top_sentences(row['sentences'], row['sentence_scores']), axis=1)\n",
        "\n",
        "# Save the results in a new Excel file\n",
        "patent_data.to_excel('patent_data_with_extractive_summaries.xlsx', index=False)  # The summaries will be in 'extractive_summary' column\n",
        "\n",
        "# Optionally, print the summaries to check\n",
        "print(patent_data['extractive_summary'])\n"
      ],
      "metadata": {
        "colab": {
          "base_uri": "https://localhost:8080/"
        },
        "id": "7s5dJAmL5c-z",
        "outputId": "46dfc152-ba2a-4d10-edf4-d92c9dbf1951"
      },
      "execution_count": null,
      "outputs": [
        {
          "output_type": "stream",
          "name": "stdout",
          "text": [
            "0     disclos variou method apparatus comput program...\n",
            "1     variou method apparatus comput program product...\n",
            "2     joint code depth map video textur video provid...\n",
            "3     invent relat method apparatus system comput pr...\n",
            "4     accord embodi method includ determin second se...\n",
            "5     method oper network includ receiv authent auth...\n",
            "6     present disclosur provid technic scheme transm...\n",
            "7     apparatu compris processor memori includ compu...\n",
            "8     certain embodi invent gener relat law intercep...\n",
            "9     network monitor agent disclos monitor network ...\n",
            "10    network access system eg network hotspot requi...\n",
            "11    method compris receiv inform indic object shar...\n",
            "12    variou exemplari embodi relat method perform n...\n",
            "13    imag restor method includ provid imag data inc...\n",
            "14    techniqu disclos enabl oper commun network pro...\n",
            "15    send authent request messag authent devic rece...\n",
            "16    invent relat method system imagebas retriev me...\n",
            "17    devic test capabl present herein devic test ca...\n",
            "18    method correspond devic determin forward rule ...\n",
            "19    interwork control mechan commun connect least ...\n",
            "20    variou method visual search stabil provid one ...\n",
            "21    aspect disclos embodi includ cluster set discr...\n",
            "22    protocol identifi gtp version identifi automat...\n",
            "23    determin amount motion second frame video refe...\n",
            "24    apparatu compris request configur request cert...\n",
            "25    present invent relat femtocel provid servic ue...\n",
            "26    telecommun method telecommun network provid di...\n",
            "27    invent includ method apparatu provid multimedi...\n",
            "28    method apparatu control virtual machin includ ...\n",
            "29    method construct imag model least one imag dat...\n",
            "30    apparatu method provid scene display immers vi...\n",
            "31    method includ display display refer imag displ...\n",
            "32    new method system apparatu softwar product con...\n",
            "33    invent concern method provid session mobil ip ...\n",
            "34    approach obtain appli identif token provid one...\n",
            "35    first imag frame gather first imag frame first...\n",
            "36    method includ receiv encrypt multimedia inform...\n",
            "37    present invent provid method roam user establi...\n",
            "38    method authent peer mobil network node establi...\n",
            "39    invent relat method first second stereoscop im...\n",
            "Name: extractive_summary, dtype: object\n"
          ]
        }
      ]
    },
    {
      "cell_type": "code",
      "source": [],
      "metadata": {
        "id": "SnMALzW95dC0"
      },
      "execution_count": null,
      "outputs": []
    },
    {
      "cell_type": "code",
      "source": [
        "from sklearn.feature_extraction.text import TfidfVectorizer\n",
        "\n",
        "# Define your input variables\n",
        "abstract = \"\"\"\n",
        "\n",
        "disclos variou method apparatus comput program product video encod decod embodi first input pictur sequenc compris pictur equirectangular project format obtain\n",
        "\"\"\"\n",
        "claims = \"\"\"\n",
        "method compris obtain input pictur sequenc compris pictur equirectangular project format encod input pictur sequenc first spatial size compris first number pixel\n",
        "first set motionconstrain code subpictur sequenc use first subpictur partit grid first subpictur width pixel encod input pictur sequenc second spatial size compris\n",
        "second number pixel second set motionconstrain code subpictur sequenc use second subpictur partit grid first subpictur width pixel wherein second number pixel integ\n",
        "fraction first number pixel shift pictur input pictur sequenc horizont wraparound manner encod horizont shift input pictur sequenc second spatial size third set\n",
        "motionconstrain code subpictur sequenc use second subpictur partit grid obtain input pictur sequenc compris pictur equirectangular project format encod input pictur\n",
        "sequenc first spatial size compris first number pixel first set motionconstrain code subpictur sequenc use first subpictur partit grid first subpictur width pixel encod\n",
        "input pictur sequenc second spatial size compris second number pixel second set motionconstrain code subpictur sequenc use second subpictur partit grid first subpictur\n",
        "width pixel wherein second number pixel integ fraction first number pixel shift pictur input pictur sequenc horizont wraparound manner encod horizont shift input pictur\n",
        "sequenc second spatial size third set motionconstrain code subpictur sequenc use second subpictur partit grid method claim compris encapsul first second third set\n",
        "motionconstrain code subpictur sequenc track contain file format includ along track descript first second third set motionconstrain code subpictur sequenc compris\n",
        "syntax element indic least one subpictur width subpictur height subpictur locat angular coordin system subpictur locat rel input pictur sequenc encapsul first second\n",
        "third set motionconstrain code subpictur sequenc track contain file format includ along track descript first second third set motionconstrain code subpictur sequenc\n",
        "compris syntax element indic least one subpictur width subpictur height subpictur locat angular coordin system subpictur locat rel input pictur sequenc method claim\n",
        "wherein said shift half first subpictur width method claim wherein integ fraction one fourth first number method claim compris select viewport select first subset\n",
        "motionconstrain code subpictur sequenc first set motionconstrain code subpictur sequenc manner first subset cover viewport select second subset motionconstrain code\n",
        "subpictur sequenc second set motionconstrain code subpictur sequenc third set motionconstrain code subpictur sequenc manner first subset motionconstrain code subpictur\n",
        "sequenc second subset motionconstrain code subpictur sequenc jointli spheric coverag input pictur sequenc creat extractor track compris constructor extract code data\n",
        "first subset motionconstrain code subpictur sequenc second subset motionconstrain code subpictur sequenc select viewport select first subset motionconstrain code subpictur sequenc first set motionconstrain code subpictur sequenc manner first subset cover viewport select second subset motionconstrain code subpictur sequenc second set motionconstrain code subpictur sequenc third set motionconstrain code subpictur sequenc manner first subset motionconstrain code subpictur sequenc second subset motionconstrain code subpictur sequenc jointli spheric coverag input pictur sequenc creat extractor track compris constructor extract code data first subset motionconstrain code subpictur sequenc second subset motionconstrain code subpictur sequenc method claim wherein select second subset motionconstrain code subpictur sequenc perform manner first subset motionconstrain code subpictur sequenc second subset motionconstrain code subpictur sequenc cover spheric nonoverlap part method claim compris creat medium present descript includ medium present descript inform indic request locat first set motionconstrain code subpictur sequenc second set motionconstrain code subpictur sequenc third set motionconstrain code subpictur sequenc includ medium present descript descript first set motionconstrain code subpictur sequenc second set motionconstrain code subpictur sequenc third set motionconstrain code subpictur sequenc creat medium present descript includ medium present descript inform indic request locat first set motionconstrain code subpictur sequenc second set motionconstrain code subpictur sequenc third set motionconstrain code subpictur sequenc includ medium present descript descript first set motionconstrain code subpictur sequenc second set motionconstrain code subpictur sequenc third set motionconstrain code subpictur sequenc method claim compris includ medium present descript descript extractor track wherein descript extractor indic viewport includ medium present descript descript extractor track wherein descript extractor indic viewport apparatu compris least one processor least one memori said least one memori store code thereon execut said least one processor caus apparatu perform least obtain input pictur sequenc compris pictur equirectangular project format encod input pictur sequenc first spatial size compris first number pixel first set motionconstrain code subpictur sequenc use first subpictur partit grid first subpictur width pixel encod input pictur sequenc second spatial size compris second number pixel second set motionconstrain code subpictur sequenc use second subpictur partit grid first subpictur width pixel wherein second number pixel integ fraction first number pixel shift pictur input pictur sequenc horizont wraparound manner encod horizont shift input pictur sequenc second spatial size third set motionconstrain code subpictur sequenc use second subpictur partit grid least one processor least one memori said least one memori store code thereon execut said least one processor caus apparatu perform least obtain input pictur sequenc compris pictur equirectangular project format encod input pictur sequenc first spatial size compris first number pixel first set motionconstrain code subpictur sequenc use first subpictur partit grid first subpictur width pixel encod input pictur sequenc second spatial size compris second number pixel second set motionconstrain code subpictur sequenc use second subpictur partit grid first subpictur width pixel wherein second number pixel integ fraction first number pixel shift pictur input pictur sequenc horizont wraparound manner encod horizont shift input pictur sequenc second spatial size third set motionconstrain code subpictur sequenc use second subpictur partit grid apparatu claim wherein said shift half first subpictur width apparatu claim wherein integ fraction one fourth first number apparatu claim compris encapsul first second third set motionconstrain code subpictur sequenc track contain file format includ along track descript first second third set motionconstrain code subpictur sequenc compris syntax element indic least one subpictur width subpictur height subpictur locat angular coordin system subpictur locat rel input pictur sequenc encapsul first second third set motionconstrain code subpictur sequenc track contain file format includ along track descript first second third set motionconstrain code subpictur sequenc compris syntax element indic least one subpictur width subpictur height subpictur locat angular coordin system subpictur locat rel input pictur sequenc apparatu claim compris select viewport select first subset motionconstrain code subpictur sequenc first set motionconstrain code subpictur sequenc manner first subset cover viewport select second subset motionconstrain code subpictur sequenc second set motionconstrain code subpictur sequenc third set motionconstrain code subpictur sequenc manner first subset motionconstrain code subpictur sequenc second subset motionconstrain code subpictur sequenc jointli spheric coverag input pictur sequenc creat extractor track compris constructor extract code data first subset motionconstrain code subpictur sequenc second subset motionconstrain code subpictur sequenc select viewport select first subset motionconstrain code subpictur sequenc first set motionconstrain code subpictur sequenc manner first subset cover viewport select second subset motionconstrain code subpictur sequenc second set motionconstrain code subpictur sequenc third set motionconstrain code subpictur sequenc manner first subset motionconstrain code subpictur sequenc second subset motionconstrain code subpictur sequenc jointli spheric coverag input pictur sequenc creat extractor track compris constructor extract code data first subset motionconstrain code subpictur sequenc second subset motionconstrain code subpictur sequenc apparatu claim wherein select second subset motionconstrain code subpictur sequenc perform manner first subset motionconstrain code subpictur sequenc second subset motionconstrain code subpictur sequenc cover spheric nonoverlap part apparatu claim compris creat medium present descript includ medium present descript inform indic request locat first set motionconstrain code subpictur sequenc second set motionconstrain code subpictur sequenc third set motionconstrain code subpictur sequenc includ medium present descript descript first set motionconstrain code subpictur sequenc second set motionconstrain code subpictur sequenc third set motionconstrain code subpictur sequenc creat medium present descript includ medium present descript inform indic request locat first set motionconstrain code subpictur sequenc second set motionconstrain code subpictur sequenc third set motionconstrain code subpictur sequenc includ medium present descript descript first set motionconstrain code subpictur sequenc second set motionconstrain code subpictur sequenc third set motionconstrain code subpictur sequenc apparatu claim compris includ medium present descript descript extractor track wherein descript extractor indic viewport includ medium present descript descript extractor track wherein descript extractor indic viewport nontransitori comput readabl storag medium compris code use apparatu execut processor caus apparatu perform least obtain input pictur sequenc compris pictur equirectangular project format encod input pictur sequenc first spatial size compris first number pixel first set motionconstrain code subpictur sequenc use first subpictur partit grid first subpictur width pixel encod input pictur sequenc second spatial size compris second number pixel second set motionconstrain code subpictur sequenc use second subpictur partit grid first subpictur width pixel wherein second number pixel integ fraction first number pixel shift pictur input pictur sequenc horizont wraparound manner encod horizont shift input pictur sequenc second spatial size third set motionconstrain code subpictur sequenc use second subpictur partit grid obtain input pictur sequenc compris pictur equirectangular project format encod input pictur sequenc first spatial size compris first number pixel first set motionconstrain code subpictur sequenc use first subpictur partit grid first subpictur width pixel encod input pictur sequenc second spatial size compris second number pixel second set motionconstrain code subpictur sequenc use second subpictur partit grid first subpictur width pixel wherein second number pixel integ fraction first number pixel shift pictur input pictur sequenc horizont wraparound manner encod horizont shift input pictur sequenc second spatial size third set motionconstrain code subpictur sequenc use second subpictur partit grid nontransitori comput readabl storag medium claim wherein said shift half first subpictur width nontransitori comput readabl storag medium claim wherein integ fraction one fourth first number nontransitori comput readabl storag medium claim compris code execut processor caus apparatu perform encapsul first second third set motionconstrain code subpictur sequenc track contain file format includ along track descript first second third set motionconstrain code subpictur sequenc compris syntax element indic least one subpictur width subpictur height subpictur locat angular coordin system subpictur locat rel input pictur sequenc encapsul first second third set motionconstrain code subpictur sequenc track contain file format includ along track descript first second third set motionconstrain code subpictur sequenc compris syntax element indic least one subpictur width subpictur height subpictur locat angular coordin system subpictur locat rel input pictur sequenc\n",
        "\"\"\"\n",
        "description = \"\"\"\n",
        "technic field present invent relat apparatu method comput program resolutionadapt tile merg viewportadapt stream omnidirect video code decod background section intend\n",
        "provid background context invent recit claim descript herein may includ concept could pursu necessarili one previous conceiv pursu therefor unless otherwis indic herein\n",
        "describ section prior art descript claim applic admit prior art inclus section video code system may compris encod transform input video compress represent suit\n",
        "storagetransmiss decod uncompress compress video represent back viewabl form encod may discard inform origin video sequenc order repres video compact form exampl\n",
        "nabl storagetransmiss video inform lower bitrat otherwis might need variou technolog provid threedimension video content current investig develop especi intens\n",
        "studi focus variou multiview applic wherein viewer abl see one pair stereo video specif viewpoint anoth pair stereo video differ viewpoint one feasibl approach\n",
        "multiview applic turn wherein limit number input view eg mono stereo video plu supplementari data provid decod side requir view render ie synthes local decod display\n",
        "display encod video content video compress system advanc video code standard havc multiview video code mvc extens havc scalabl extens hevc high effici video code use summari embodi provid method encod decod video inform embodi present invent provid method apparatu comput program product video code well decod variou aspect exampl invent provid detail descript accord first aspect provid method compris obtain first input pictur sequenc compris pictur equirectangular project format encod first input pictur sequenc first spatial size character first number pixel first set motionconstrain code subpictur sequenc use first subpictur partit grid first subpictur width pixel encod first input pictur sequenc second spatial size character second number pixel second set motionconstrain code subpictur sequenc use second subpictur partit grid first subpictur width pixel wherein second number pixel integ fraction first number pixel shift pictur first input pictur sequenc horizont wraparound manner encod horizont shift first input pictur sequenc second spatial size third set motionconstrain code subpictur sequenc use second subpictur partit grid accord second aspect provid method compris receiv descript first set motionconstrain code subpictur sequenc use first subpictur partit grid first subpictur width pixel wherein first set repres first input pictur sequenc first spatial size character first number pixel descript second set motionconstrain code subpictur sequenc use second subpictur partit grid first subpictur width pixel wherein second number pixel one fourth first number pixel wherein second set repres first input pictur sequenc second spatial size character second number pixel descript third set motionconstrain code subpictur sequenc use second subpictur partit grid wherein third set repres horizont shift first input pictur sequenc second spatial size wherein horizont shift perform wraparound manner select first subset first set motionconstrain code subpictur sequenc select second subset second third set motionconstrain subpictur sequenc manner first second subset jointli spheric coverag first input pictur sequenc apparatu accord third aspect compris least one processor least one memori said least one memori store code thereon execut said least one processor caus apparatu perform least obtain first input pictur sequenc compris pictur equirectangular project format encod first input pictur sequenc first spatial size character first number pixel first set motionconstrain code subpictur sequenc use first subpictur partit grid first subpictur width pixel encod first input pictur sequenc second spatial size character second number pixel second set motionconstrain code subpictur sequenc use second subpictur partit grid first subpictur width pixel wherein second number pixel integ fraction first number pixel shift pictur first input pictur sequenc horizont wraparound manner encod horizont shift first input pictur sequenc second spatial size third set motionconstrain code subpictur sequenc use second subpictur partit grid apparatu accord fourth aspect compris least one processor least one memori said least one memori store code thereon execut said least one processor caus apparatu perform least receiv descript first set motionconstrain code subpictur sequenc use first subpictur partit grid first subpictur width pixel wherein first set repres first input pictur sequenc first spatial size character first number pixel descript second set motionconstrain code subpictur sequenc use second subpictur partit grid first subpictur width pixel wherein second number pixel one fourth first number pixel wherein second set repres first input pictur sequenc second spatial size character second number pixel descript third set motionconstrain code subpictur sequenc use second subpictur partit grid wherein third set repres horizont shift first input pictur sequenc second spatial size wherein horizont shift perform wraparound manner select first subset first set motionconstrain code subpictur sequenc select second subset second third set motionconstrain subpictur sequenc manner first second subset jointli spheric coverag first input pictur sequenc comput readabl storag medium accord fifth aspect compris code use apparatu execut processor caus apparatu perform obtain first input pictur sequenc compris pictur equirectangular project format encod first input pictur sequenc first spatial size character first number pixel first set motionconstrain code subpictur sequenc use first subpictur partit grid first subpictur width pixel encod first input pictur sequenc second spatial size character second number pixel second set motionconstrain code subpictur sequenc use second subpictur partit grid first subpictur width pixel wherein second number pixel integ fraction first number pixel shift pictur first input pictur sequenc horizont wraparound manner encod horizont shift first input pictur sequenc second spatial size third set motionconstrain code subpictur sequenc use second subpictur partit grid comput readabl storag medium accord sixth aspect compris code use apparatu execut processor caus apparatu perform receiv descript first set motionconstrain code subpictur sequenc use first subpictur partit grid first subpictur width pixel wherein first set repres first input pictur sequenc first spatial size character first number pixel descript second set motionconstrain code subpictur sequenc use second subpictur partit grid first subpictur width pixel wherein second number pixel one fourth first number pixel wherein second set repres first input pictur sequenc second spatial size character second number pixel descript third set motionconstrain code subpictur sequenc use second subpictur partit grid wherein third set repres horizont shift first input pictur sequenc second spatial size wherein horizont shift perform wraparound manner select first subset first set motionconstrain code subpictur sequenc select second subset second third set motionconstrain subpictur sequenc manner first second subset jointli spheric coverag first input pictur sequenc apparatu accord seventh aspect compris mean encod first input pictur sequenc first spatial size character first number pixel first set motionconstrain code subpictur sequenc use first subpictur partit grid first subpictur width pixel mean encod first input pictur sequenc second spatial size character second number pixel second set motionconstrain code subpictur sequenc use second subpictur partit grid first subpictur width pixel wherein second number pixel integ fraction first number pixel mean shift pictur first input pictur sequenc horizont wraparound manner mean encod horizont shift first input pictur sequenc second spatial size third set motionconstrain code subpictur sequenc use second subpictur partit grid apparatu accord seventh aspect compris mean obtain first input pictur sequenc compris pictur equirectangular project format mean receiv descript first set motionconstrain code subpictur sequenc use first subpictur partit grid first subpictur width pixel wherein first set repres first input pictur sequenc first spatial size character first number pixel descript second set motionconstrain code subpictur sequenc use second subpictur partit grid first subpictur width pixel wherein second number pixel one fourth first number pixel wherein second set repres first input pictur sequenc second spatial size character second number pixel descript third set motionconstrain code subpictur sequenc use second subpictur partit grid wherein third set repres horizont shift first input pictur sequenc second spatial size wherein horizont shift perform wraparound manner mean select first subset first set motionconstrain code subpictur sequenc mean select second subset second third set motionconstrain subpictur sequenc manner first second subset jointli spheric coverag first input pictur sequenc aspect includ least apparatus comput program productscod store nontransitori memori medium arrang carri method brief descript draw complet understand exampl embodi present invent refer made follow descript taken connect accompani draw fig show exampl multicamera system simplifi block diagram accord embodi fig b show perspect view multicamera system accord embodi fig illustr imag stitch project map process accord embodi fig b illustr process form monoscop equirectangular panorama pictur accord embodi fig show exampl map higher resolut sampl front face cube map pack virtual realiti frame cube face accord embodi fig show exampl merg code rectangl sequenc bitstream accord embodi fig show exampl extractor track use tilebas omnidirect video stream accord embodi fig ad illustr exampl combin tile bitstream differ resolut use singl decod decod result bitstream accord embodi fig show exampl approach obtain viewport resolut correspond k effect resolut fig b show exampl approach obtain viewport resolut correspond k effect resolut fig show schemat diagram encod suitabl implement embodi invent fig b show schemat diagram decod suitabl implement embodi invent fig show element video encod section accord embodi fig b show element video decod section accord embodi fig show flow chart encod method accord embodi fig b show flow chart method select retriev decod motionconstrain code subpictur sequenc accord embodi fig show schemat diagram exampl multimedia commun system within variou embodi may implement fig show schemat electron devic employ embodi invent fig show schemat user equip suitabl employ embodi invent fig show schemat electron devic employ embodi invent connect use wireless wire network connect detail descript exampl embodi follow sever embodi invent describ context one video code arrang note howev invent limit particular arrang fact differ embodi applic wide environ improv code switch code field frame desir exampl invent may applic video code system like stream system dvd player digit televis receiv person video record system comput program person comput handheld comput commun devic well network element transcod cloud comput arrang video data handl follow sever embodi describ use convent refer decod indic embodi may appli decod andor encod advanc video code standard may abbrevi avc havc develop joint video team jvt video code expert group vceg telecommun standard sector intern telecommun union itut move pictur expert group mpeg intern organis standard isointern electrotechn commiss iec havc standard publish parent standard organ refer itut recommend h isoiec intern standard also known mpeg part advanc video code avc multipl version havc standard integr new extens featur specif extens includ scalabl video code svc multiview video code mvc high effici video code standard may abbrevi hevc hhevc develop joint collabor teamâvideo code jctvc vceg mpeg standard publish parent standard organ refer itut recommend h isoiec intern standard also known mpegh part high effici video code hevc extens hhevc includ scalabl multiview threedimension fidel rang extens may refer shvc mvhevc dhevc rext respect refer descript hhevc shvc mvhevc dhevc rext made purpos understand definit structur concept standard specif understood refer latest version standard avail date applic unless otherwis indic key definit bitstream code structur concept havc hevc extens describ section exampl video encod decod encod method decod method bitstream structur wherein embodi may implement key definit bitstream code structur concept havc hevc standardâh describ jointli aspect invent limit havc hevc extens rather descript given one possibl basi top invent may partli fulli realiz descript exist standard well descript exampl embodi syntax element may defin element data repres bitstream syntax structur may defin zero syntax element present togeth bitstream specifi order similarli mani earlier video code standard bitstream syntax semant well decod process errorfre bitstream specifi havc hevc encod process specifi encod must gener conform bitstream bitstream decod conform verifi hypothet refer decod hrd standard contain code tool help cope transmiss error loss use tool encod option decod process specifi erron bitstream elementari unit input havc hevc encod output havc hevc decod respect pictur pictur given input encod may also refer sourc pictur pictur decod decod may refer decod pictur sourc decod pictur may compris one sampl array one follow set sampl array luma monochrom luma two chroma ycbcr ycgco green blue red gbr also known rgb array repres unspecifi monochrom tristimulu color sampl exampl yzx also known xyz follow array may refer luma l chroma two chroma array may refer cb cr regardless actual color represent method use actual color represent method use may indic eg code bitstream eg use video usabl inform vui syntax havc andor hevc compon may defin array singl sampl one three sampl array luma two chroma array singl sampl array compos pictur monochrom format havc hevc pictur may either frame field frame compris matrix luma sampl possibl correspond chroma sampl field set altern sampl row frame field may use encod input exampl sourc signal interlac chroma sampl array may absent henc monochrom sampl may use may subsampl compar luma sampl array chroma format may summar follow monochrom sampl one sampl array may nomin consid luma array sampl two chroma array half height half width luma array sampl two chroma array height half width luma array sampl separ color plane use two chroma array height width luma array havc hevc possibl code sampl array separ color plane bitstream respect decod separ code color plane bitstream separ color plane use one separ process encod andor decod pictur monochrom sampl chroma subsampl use eg chroma sampl locat chroma sampl respect luma sampl may determin encod side eg preprocess step part encod chroma sampl posit respect luma sampl posit may predefin exampl code standard havc hevc may indic bitstream exampl part vui havc hevc gener sourc video sequenc provid input encod may either repres interlac sourc content progress sourc content field opposit pariti captur differ time interlac sourc content progress sourc content contain captur frame encod may encod field interlac sourc content two way pair interlac field may code code frame field may code code field likewis encod may encod frame progress sourc content two way frame progress sourc content may code code frame pair code field field pair complementari field pair may defin two field next decod andor output order opposit pariti ie one top field anoth bottom field neither belong complementari field pair video code standard scheme allow mix code frame code field code video sequenc moreov predict code field field code frame andor predict code frame complementari field pair code field may enabl encod andor decod partit may defin divis set subset element set exactli one subset pictur partit may defin divis pictur smaller nonoverlap unit block partit may defin divis block smaller nonoverlap unit subblock case term block partit may consid cover multipl level partit exampl partit pictur slice partit slice smaller unit macroblock havc note unit pictur may one partit exampl code unit hevc may partit predict unit separ anoth quadtre transform unit code pictur code represent pictur video code standard specif may allow encod divid code pictur code slice alik inpictur predict typic disabl across slice boundari thu slice regard way split code pictur independ decod piec havc hevc inpictur predict may disabl across slice boundari thu slice regard way split code pictur independ decod piec slice therefor often regard elementari unit transmiss mani case encod may indic bitstream type inpictur predict turn across slice boundari decod oper take inform account exampl conclud predict sourc avail exampl sampl neighbour macroblock cu may regard unavail intra predict neighbour macroblock cu resid differ slice havc macroblock ã block luma sampl correspond block chroma sampl exampl sampl pattern macroblock contain one ã block chroma sampl per chroma compon havc pictur partit one slice group slice group contain one slice havc slice consist integ number macroblock order consecut raster scan within particular slice group describ oper hevc follow term may use code block may defin nãn block sampl valu n divis code tree block code block partit code tree block ctb may defin nãn block sampl valu n divis compon code tree block partit code tree unit ctu may defin code tree block luma sampl two correspond code tree block chroma sampl pictur three sampl array code tree block sampl monochrom pictur pictur code use three separ color plane syntax structur use code sampl code unit cu may defin code block luma sampl two correspond code block chroma sampl pictur three sampl array code block sampl monochrom pictur pictur code use three separ color plane syntax structur use code sampl video codec high effici video code hevc codec video pictur divid code unit cu cover area pictur cu consist one predict unit pu defin predict process sampl within cu one transform unit tu defin predict error code process sampl said cu typic cu consist squar block sampl size select predefin set possibl cu size cu maximum allow size may name lcu largest code unit code tree unit ctu video pictur divid nonoverlap lcu lcu split combin smaller cu eg recurs split lcu result cu result cu typic least one pu least one tu associ pu tu split smaller pu tu order increas granular predict predict error code process respect pu predict inform associ defin kind predict appli pixel within pu eg motion vector inform inter predict pu intra predict direction inform intra predict pu tu associ inform describ predict error decod process sampl within said tu includ eg dct coeffici inform typic signal cu level whether predict error code appli cu case predict error residu associ cu consid tu said cu divis imag cu divis cu pu tu typic signal bitstream allow decod reproduc intend structur unit hevc standard pictur partit tile rectangular contain integ number ctu hevc standard partit tile form grid may character list tile column width ctu list tile row height ctu tile order bitstream consecut raster scan order tile grid tile may contain integ number slice hevc slice consist integ number ctu ctu scan raster scan order ctu within tile within pictur tile use slice may contain integ number tile slice contain tile within ctu cu specif scan order hevc slice defin integ number code tree unit contain one independ slice segment subsequ depend slice segment preced next independ slice segment within access unit hevc slice segment defin integ number code tree unit order consecut tile scan contain singl nal unit divis pictur slice segment partit hevc independ slice segment defin slice segment valu syntax element slice segment header infer valu preced slice segment depend slice segment defin slice segment valu syntax element slice segment header infer valu preced independ slice segment decod order hevc slice header defin slice segment header independ slice segment current slice segment independ slice segment preced current depend slice segment slice segment header defin part code slice segment contain data element pertain first code tree unit repres slice segment cu scan raster scan order lcu within tile within pictur tile use within lcu cu specif scan order basic code unit hevc treeblock treeblock nãn block luma sampl two correspond block chroma sampl pictur three sampl array nãn block sampl monochrom pictur pictur code use three separ colour plane treeblock may partit differ code decod process treeblock partit block luma sampl two correspond block chroma sampl result partit treeblock pictur three sampl array block luma sampl result partit treeblock monochrom pictur pictur code use three separ colour plane treeblock assign partit signal identifi block size intra inter predict transform code partit recurs q\n",
        "\n",
        "\"\"\"\n",
        "\n",
        "# Initialize TF-IDF Vectorizer\n",
        "tfidf = TfidfVectorizer()\n",
        "\n",
        "# Function to extract key phrases using TF-IDF\n",
        "def extract_key_phrases(text):\n",
        "    tfidf_matrix = tfidf.fit_transform([text])  # Note: fit_transform expects an iterable\n",
        "    feature_names = tfidf.get_feature_names_out()\n",
        "    dense = tfidf_matrix.todense().tolist()[0]\n",
        "    phrase_scores = [(feature_names[i], score) for i, score in enumerate(dense) if score > 0]\n",
        "    sorted_phrases = sorted(phrase_scores, key=lambda t: t[1], reverse=True)\n",
        "    return [phrase for phrase, score in sorted_phrases[:]]  # Top 3 phrases\n",
        "\n",
        "# Apply TF-IDF and extract key phrases for each input\n",
        "top_abstract_phrases = extract_key_phrases(abstract)\n",
        "top_claims_phrases = extract_key_phrases(claims)\n",
        "top_description_phrases = extract_key_phrases(description)\n",
        "\n",
        "# Print the results\n",
        "print(\"Top Abstract Phrases:\", top_abstract_phrases)\n",
        "print(\"Top Claims Phrases:\", top_claims_phrases)\n",
        "print(\"Top Description Phrases:\", top_description_phrases)\n"
      ],
      "metadata": {
        "colab": {
          "base_uri": "https://localhost:8080/"
        },
        "id": "LfywPC7r6PnK",
        "outputId": "2a28a816-d68a-4218-ecc2-c85481885d29"
      },
      "execution_count": null,
      "outputs": [
        {
          "output_type": "stream",
          "name": "stdout",
          "text": [
            "Top Abstract Phrases: ['pictur', 'apparatus', 'compris', 'comput', 'decod', 'disclos', 'embodi', 'encod', 'equirectangular', 'first', 'format', 'input', 'method', 'obtain', 'product', 'program', 'project', 'sequenc', 'variou', 'video']\n",
            "Top Claims Phrases: ['subpictur', 'sequenc', 'code', 'motionconstrain', 'first', 'second', 'set', 'pictur', 'compris', 'input', 'pixel', 'descript', 'subset', 'third', 'number', 'width', 'medium', 'track', 'use', 'encod', 'grid', 'includ', 'partit', 'size', 'spatial', 'wherein', 'claim', 'least', 'one', 'locat', 'manner', 'present', 'shift', 'indic', 'select', 'apparatu', 'extractor', 'format', 'horizont', 'viewport', 'fraction', 'integ', 'creat', 'method', 'said', 'along', 'angular', 'contain', 'coordin', 'cover', 'element', 'encapsul', 'equirectangular', 'file', 'height', 'obtain', 'perform', 'processor', 'project', 'rel', 'spheric', 'syntax', 'system', 'wraparound', 'caus', 'comput', 'constructor', 'coverag', 'data', 'execut', 'extract', 'inform', 'jointli', 'memori', 'nontransitori', 'readabl', 'request', 'storag', 'fourth', 'half', 'nonoverlap', 'part', 'store', 'thereon']\n",
            "Top Description Phrases: ['code', 'first', 'pictur', 'second', 'sequenc', 'subpictur', 'may', 'sampl', 'pixel', 'set', 'use', 'partit', 'video', 'input', 'slice', 'number', 'encod', 'decod', 'motionconstrain', 'one', 'block', 'embodi', 'size', 'wherein', 'grid', 'hevc', 'array', 'exampl', 'spatial', 'unit', 'cu', 'descript', 'field', 'predict', 'standard', 'chroma', 'havc', 'segment', 'accord', 'bitstream', 'defin', 'fig', 'width', 'luma', 'character', 'repres', 'show', 'third', 'horizont', 'shift', 'tile', 'compris', 'invent', 'subset', 'frame', 'least', 'order', 'two', 'apparatu', 'manner', 'method', 'refer', 'sourc', 'within', 'aspect', 'contain', 'integ', 'process', 'tree', 'element', 'inform', 'monochrom', 'select', 'separ', 'color', 'comput', 'content', 'ctu', 'provid', 'pu', 'scan', 'syntax', 'three', 'correspond', 'divis', 'eg', 'extens', 'independ', 'mean', 'pair', 'perform', 'plane', 'structur', 'system', 'tu', 'wraparound', 'describ', 'follow', 'said', 'treeblock', 'andor', 'applic', 'differ', 'error', 'format', 'indic', 'lcu', 'macroblock', 'obtain', 'processor', 'resolut', 'respect', 'schemat', 'section', 'specif', 'valu', 'also', 'equirectangular', 'fourth', 'group', 'header', 'includ', 'interlac', 'jointli', 'memori', 'multiview', 'part', 'project', 'receiv', 'represent', 'result', 'smaller', 'split', 'typic', 'allow', 'arrang', 'associ', 'caus', 'concept', 'consist', 'coverag', 'data', 'diagram', 'effici', 'execut', 'form', 'fraction', 'height', 'high', 'implement', 'intern', 'intra', 'known', 'nãn', 'possibl', 'preced', 'present', 'program', 'progress', 'raster', 'regard', 'signal', 'singl', 'specifi', 'spheric', 'transform', 'variou', 'way', 'well', 'across', 'advanc', 'anoth', 'appli', 'approach', 'boundari', 'case', 'complementari', 'compon', 'compress', 'connect', 'consecut', 'consid', 'current', 'definit', 'depend', 'develop', 'devic', 'divid', 'employ', 'half', 'hhevc', 'illustr', 'inpictur', 'itut', 'limit', 'map', 'medium', 'mpeg', 'nonoverlap', 'otherwis', 'scalabl', 'stereo', 'store', 'stream', 'suitabl', 'view', 'abbrevi', 'actual', 'art', 'avail', 'avc', 'background', 'captur', 'chart', 'claim', 'codec', 'colour', 'combin', 'commun', 'conform', 'context', 'cover', 'cube', 'detail', 'dhevc', 'disabl', 'display', 'draw', 'effect', 'either', 'electron', 'elementari', 'expert', 'face', 'flow', 'gener', 'given', 'herein', 'ie', 'imag', 'infer', 'intend', 'inter', 'isoiec', 'joint', 'key', 'level', 'list', 'made', 'mani', 'merg', 'multicamera', 'multipl', 'mvc', 'mvhevc', 'neighbour', 'network', 'next', 'note', 'omnidirect', 'oper', 'opposit', 'organ', 'output', 'parent', 'pariti', 'particular', 'person', 'piec', 'posit', 'predefin', 'prior', 'publish', 'pursu', 'readabl', 'recommend', 'recurs', 'rext', 'row', 'seventh', 'sever', 'shvc', 'side', 'storag', 'storagetransmiss', 'subsampl', 'telecommun', 'term', 'therefor', 'thereon', 'threedimension', 'thu', 'tool', 'top', 'transmiss', 'turn', 'understand', 'unless', 'vceg', 'version', 'viewpoint', 'viewport', 'vui', 'abl', 'absent', 'access', 'accompani', 'account', 'ad', 'admit', 'alik', 'altern', 'apparatus', 'area', 'assign', 'back', 'basi', 'basic', 'belong', 'bitrat', 'blue', 'bottom', 'brief', 'carri', 'cb', 'cloud', 'coeffici', 'collabor', 'column', 'commiss', 'compact', 'compar', 'complet', 'compos', 'conceiv', 'conclud', 'convent', 'cope', 'could', 'cr', 'ctb', 'date', 'dct', 'desir', 'determin', 'digit', 'direction', 'discard', 'dvd', 'earlier', 'electrotechn', 'enabl', 'environ', 'equip', 'erron', 'errorfre', 'especi', 'exactli', 'exist', 'extractor', 'fact', 'feasibl', 'featur', 'fidel', 'fifth', 'focus', 'front', 'fulli', 'gbr', 'granular', 'green', 'handheld', 'handl', 'help', 'henc', 'higher', 'howev', 'hrd', 'hypothet', 'identifi', 'iec', 'improv', 'inclus', 'increas', 'integr', 'intens', 'investig', 'isointern', 'jctvc', 'jvt', 'kind', 'largest', 'latest', 'like', 'likewis', 'local', 'locat', 'loss', 'lower', 'matrix', 'maximum', 'might', 'mix', 'mono', 'monoscop', 'moreov', 'motion', 'move', 'mpegh', 'multimedia', 'must', 'nabl', 'nal', 'name', 'necessarili', 'need', 'neither', 'new', 'nomin', 'nontransitori', 'often', 'option', 'organis', 'origin', 'pack', 'panorama', 'partli', 'pattern', 'per', 'perspect', 'pertain', 'player', 'plu', 'preprocess', 'previous', 'product', 'productscod', 'purpos', 'quadtre', 'rang', 'rather', 'realiti', 'realiz', 'recit', 'record', 'rectangl', 'rectangular', 'red', 'regardless', 'relat', 'render', 'reproduc', 'requir', 'resid', 'residu', 'resolutionadapt', 'retriev', 'rgb', 'scheme', 'sector', 'see', 'semant', 'similarli', 'simplifi', 'sixth', 'squar', 'standardâh', 'step', 'stitch', 'studi', 'subblock', 'subsequ', 'suit', 'summar', 'summari', 'supplementari', 'svc', 'switch', 'synthes', 'take', 'taken', 'team', 'teamâvideo', 'technic', 'technolog', 'televis', 'tilebas', 'time', 'togeth', 'track', 'transcod', 'tristimulu', 'type', 'unavail', 'uncompress', 'understood', 'union', 'unspecifi', 'usabl', 'user', 'vector', 'verifi', 'viewabl', 'viewer', 'viewportadapt', 'virtual', 'whether', 'wide', 'wire', 'wireless', 'xyz', 'ycbcr', 'ycgco', 'yzx', 'zero']\n"
          ]
        }
      ]
    }
  ]
}