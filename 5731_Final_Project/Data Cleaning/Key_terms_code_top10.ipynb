{
  "nbformat": 4,
  "nbformat_minor": 0,
  "metadata": {
    "colab": {
      "provenance": [],
      "include_colab_link": true
    },
    "kernelspec": {
      "name": "python3",
      "display_name": "Python 3"
    },
    "language_info": {
      "name": "python"
    }
  },
  "cells": [
    {
      "cell_type": "markdown",
      "metadata": {
        "id": "view-in-github",
        "colab_type": "text"
      },
      "source": [
        "<a href=\"https://colab.research.google.com/github/LavanyaPobbathi/Lavanya_INFO5731_Fall2023/blob/main/5731_Final_Project/Data%20Cleaning/Key_terms_code_top10.ipynb\" target=\"_parent\"><img src=\"https://colab.research.google.com/assets/colab-badge.svg\" alt=\"Open In Colab\"/></a>"
      ]
    },
    {
      "cell_type": "markdown",
      "source": [
        "**Finding the top 10 key terms from each patent document by using TfidVectorizer**"
      ],
      "metadata": {
        "id": "xTdK4D4EJaVG"
      }
    },
    {
      "cell_type": "code",
      "source": [
        "import pandas as pd\n",
        "from sklearn.feature_extraction.text import TfidfVectorizer\n",
        "import numpy as np\n",
        "\n",
        "# Load your dataset\n",
        "data = pd.read_excel('patent_data_with_all_summaries.xlsx')  # Replace with your file path\n",
        "\n",
        "# Optional: Combine abstract, claims, and description into one column\n",
        "data['combined_text'] = data['Abstract'] + ' ' + data['Claims'] + ' ' + data['Description']\n",
        "\n",
        "# Initialize the TF-IDF Vectorizer\n",
        "vectorizer = TfidfVectorizer(stop_words='english')\n",
        "\n",
        "# Apply TF-IDF to the combined text\n",
        "X = vectorizer.fit_transform(data['combined_text'])\n",
        "\n",
        "# Get feature names (words/terms)\n",
        "feature_array = np.array(vectorizer.get_feature_names_out())\n",
        "\n",
        "# Function to get top terms for each document\n",
        "def get_top_terms_for_document(doc_idx, n=10):\n",
        "    row_data = X[doc_idx, :]\n",
        "    sorted_items = row_data.toarray().flatten().argsort()[::-1]\n",
        "    top_terms = feature_array[sorted_items][:n]\n",
        "    return ', '.join(top_terms)\n",
        "\n",
        "# Applying the function to each row/document\n",
        "data['top_terms'] = [get_top_terms_for_document(idx) for idx in range(X.shape[0])]\n",
        "\n",
        "# Save the results with the top terms\n",
        "data.to_excel('patent_data_with_key_terms.xlsx', index=False)\n"
      ],
      "metadata": {
        "id": "4nW8HNn0Inlq"
      },
      "execution_count": null,
      "outputs": []
    }
  ]
}